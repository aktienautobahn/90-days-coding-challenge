{
 "cells": [
  {
   "cell_type": "code",
   "execution_count": 24,
   "metadata": {},
   "outputs": [],
   "source": [
    "import json\n",
    "import requests\n",
    "from bs4 import BeautifulSoup\n",
    "import pandas as pd"
   ]
  },
  {
   "cell_type": "code",
   "execution_count": 47,
   "metadata": {},
   "outputs": [],
   "source": [
    "response = requests.get(\"https://www.payscale.com/college-salary-report/majors-that-pay-you-back/bachelors/page/1\")\n",
    "soup = BeautifulSoup(response.text, 'lxml')\n",
    "data = soup.find(id='__NEXT_DATA__')\n",
    "dict = json.loads(data.text)['props']['pageProps']['data']\n",
    "df_1 = pd.DataFrame.from_dict(dict)\n",
    "\n"
   ]
  },
  {
   "cell_type": "code",
   "execution_count": 51,
   "metadata": {},
   "outputs": [
    {
     "data": {
      "text/plain": [
       "(25, 13)"
      ]
     },
     "execution_count": 51,
     "metadata": {},
     "output_type": "execute_result"
    }
   ],
   "source": [
    "response = requests.get(\"https://www.payscale.com/college-salary-report/majors-that-pay-you-back/bachelors/page/2\")\n",
    "soup = BeautifulSoup(response.text, 'lxml')\n",
    "data = soup.find(id='__NEXT_DATA__')\n",
    "dict = json.loads(data.text)['props']['pageProps']['data']\n",
    "df_2 = pd.DataFrame.from_dict(dict)\n",
    "df_2.shape\n"
   ]
  },
  {
   "cell_type": "code",
   "execution_count": 52,
   "metadata": {},
   "outputs": [
    {
     "data": {
      "text/plain": [
       "(75, 13)"
      ]
     },
     "execution_count": 52,
     "metadata": {},
     "output_type": "execute_result"
    }
   ],
   "source": [
    "result = pd.concat([result, df_2], axis=0)\n",
    "result.shape"
   ]
  },
  {
   "cell_type": "code",
   "execution_count": 62,
   "metadata": {},
   "outputs": [
    {
     "name": "stdout",
     "output_type": "stream",
     "text": [
      "1\n",
      "2\n",
      "3\n",
      "4\n",
      "5\n",
      "6\n",
      "7\n",
      "8\n",
      "9\n",
      "10\n",
      "11\n",
      "12\n",
      "13\n",
      "14\n",
      "15\n",
      "16\n",
      "17\n",
      "18\n",
      "19\n",
      "20\n",
      "21\n",
      "22\n",
      "23\n",
      "24\n",
      "25\n",
      "26\n",
      "27\n",
      "28\n",
      "29\n",
      "30\n",
      "31\n",
      "32\n",
      "33\n",
      "34\n"
     ]
    }
   ],
   "source": [
    "results = pd.DataFrame()\n",
    "for num in range(1,35):\n",
    "    response = requests.get(f\"https://www.payscale.com/college-salary-report/majors-that-pay-you-back/bachelors/page/{num}\")\n",
    "    soup = BeautifulSoup(response.text, 'lxml')\n",
    "    data = soup.find(id='__NEXT_DATA__')\n",
    "    dict = json.loads(data.text)['props']['pageProps']['data']\n",
    "    df = pd.DataFrame.from_dict(dict)\n",
    "    results = pd.concat([results, df], axis=0).reset_index(drop=True)\n",
    "    print(num)\n",
    "results.to_csv(\"/day-71/salaries_by_college_major_latest.csv\")"
   ]
  },
  {
   "cell_type": "code",
   "execution_count": 57,
   "metadata": {},
   "outputs": [
    {
     "name": "stdout",
     "output_type": "stream",
     "text": [
      "1\n",
      "2\n"
     ]
    }
   ],
   "source": [
    "for num in range(1,3):\n",
    "    print(num)"
   ]
  },
  {
   "cell_type": "code",
   "execution_count": 7,
   "metadata": {},
   "outputs": [],
   "source": []
  },
  {
   "cell_type": "code",
   "execution_count": 8,
   "metadata": {},
   "outputs": [],
   "source": []
  },
  {
   "cell_type": "code",
   "execution_count": 17,
   "metadata": {},
   "outputs": [],
   "source": []
  },
  {
   "cell_type": "code",
   "execution_count": 22,
   "metadata": {},
   "outputs": [],
   "source": []
  },
  {
   "cell_type": "code",
   "execution_count": 23,
   "metadata": {},
   "outputs": [
    {
     "name": "stdout",
     "output_type": "stream",
     "text": [
      "{'id': 3940, 'degreeType': 'Bachelors', 'major': 'Petroleum Engineering', 'earlyCareerMedianPay': 93200, 'midCareerMedianPay': 187300, 'fiveToTenYearMedianPay': 146100, 'tenToTwentyYearMedianPay': 176000, 'twentyPlusYearMedianPay': 198100, 'percentHighMeaning': 0.67, 'year': 2021, 'url': '/research/US/Degree=Bachelor%27s_Degree%2C_Petroleum_Engineering/Salary', 'rank': 1, 'tie': False}\n",
      "{'id': 4484, 'degreeType': 'Bachelors', 'major': 'Operations Research & Industrial Engineering', 'earlyCareerMedianPay': 84800, 'midCareerMedianPay': 170400, 'fiveToTenYearMedianPay': 126300, 'tenToTwentyYearMedianPay': 170800, 'twentyPlusYearMedianPay': None, 'percentHighMeaning': 0.28, 'year': 2021, 'url': '/research/US/Degree=Bachelor%27s_Degree%2C_Operations_Research_%26_Industrial_Engineering/Salary', 'rank': 2, 'tie': False}\n",
      "{'id': 4485, 'degreeType': 'Bachelors', 'major': 'Electrical Engineering & Computer Science (EECS)', 'earlyCareerMedianPay': 108500, 'midCareerMedianPay': 159300, 'fiveToTenYearMedianPay': 134000, 'tenToTwentyYearMedianPay': 150500, 'twentyPlusYearMedianPay': 163000, 'percentHighMeaning': 0.46, 'year': 2021, 'url': '/research/US/Degree=Bachelor%27s_Degree%2C_Electrical_Engineering_%26_Computer_Science_(EECS)/Salary', 'rank': 3, 'tie': False}\n",
      "{'id': 4486, 'degreeType': 'Bachelors', 'major': 'Interaction Design', 'earlyCareerMedianPay': 68300, 'midCareerMedianPay': 155800, 'fiveToTenYearMedianPay': 108400, 'tenToTwentyYearMedianPay': 155800, 'twentyPlusYearMedianPay': None, 'percentHighMeaning': 0.55, 'year': 2021, 'url': '/research/US/Degree=Bachelor%27s_Degree%2C_Interaction_Design/Salary', 'rank': 4, 'tie': False}\n",
      "{'id': 4487, 'degreeType': 'Bachelors', 'major': 'Public Accounting', 'earlyCareerMedianPay': 59800, 'midCareerMedianPay': 147700, 'fiveToTenYearMedianPay': 69800, 'tenToTwentyYearMedianPay': 89700, 'twentyPlusYearMedianPay': 189700, 'percentHighMeaning': 0.47, 'year': 2021, 'url': '/research/US/Degree=Bachelor%27s_Degree%2C_Public_Accounting/Salary', 'rank': 5, 'tie': False}\n",
      "{'id': 4488, 'degreeType': 'Bachelors', 'major': 'Operations Research', 'earlyCareerMedianPay': 83500, 'midCareerMedianPay': 147400, 'fiveToTenYearMedianPay': 110100, 'tenToTwentyYearMedianPay': 146400, 'twentyPlusYearMedianPay': None, 'percentHighMeaning': 0.54, 'year': 2021, 'url': '/research/US/Degree=Bachelor%27s_Degree%2C_Operations_Research/Salary', 'rank': 6, 'tie': False}\n",
      "{'id': 4489, 'degreeType': 'Bachelors', 'major': 'Applied Economics and Management', 'earlyCareerMedianPay': 66100, 'midCareerMedianPay': 146400, 'fiveToTenYearMedianPay': 100500, 'tenToTwentyYearMedianPay': 145700, 'twentyPlusYearMedianPay': None, 'percentHighMeaning': 0.67, 'year': 2021, 'url': '/research/US/Degree=Bachelor%27s_Degree%2C_Applied_Economics_and_Management/Salary', 'rank': 7, 'tie': False}\n",
      "{'id': 4490, 'degreeType': 'Bachelors', 'major': 'Business Computing (BC)', 'earlyCareerMedianPay': 73000, 'midCareerMedianPay': 143600, 'fiveToTenYearMedianPay': None, 'tenToTwentyYearMedianPay': None, 'twentyPlusYearMedianPay': None, 'percentHighMeaning': None, 'year': 2021, 'url': '/research/US/Degree=Bachelor%27s_Degree%2C_Business_Computing_(BC)/Salary', 'rank': 8, 'tie': False}\n",
      "{'id': 4491, 'degreeType': 'Bachelors', 'major': 'Actuarial Mathematics', 'earlyCareerMedianPay': 64300, 'midCareerMedianPay': 143400, 'fiveToTenYearMedianPay': 103900, 'tenToTwentyYearMedianPay': 143500, 'twentyPlusYearMedianPay': None, 'percentHighMeaning': 0.51, 'year': 2021, 'url': '/research/US/Degree=Bachelor%27s_Degree%2C_Actuarial_Mathematics/Salary', 'rank': 9, 'tie': False}\n",
      "{'id': 4492, 'degreeType': 'Bachelors', 'major': 'Electrical Power Engineering', 'earlyCareerMedianPay': 76100, 'midCareerMedianPay': 142600, 'fiveToTenYearMedianPay': 99600, 'tenToTwentyYearMedianPay': 129000, 'twentyPlusYearMedianPay': 157500, 'percentHighMeaning': 0.68, 'year': 2021, 'url': '/research/US/Degree=Bachelor%27s_Degree%2C_Electrical_Power_Engineering/Salary', 'rank': 10, 'tie': False}\n",
      "{'id': 4493, 'degreeType': 'Bachelors', 'major': 'Information & Computer Science', 'earlyCareerMedianPay': 58600, 'midCareerMedianPay': 140900, 'fiveToTenYearMedianPay': 119800, 'tenToTwentyYearMedianPay': 126500, 'twentyPlusYearMedianPay': 155100, 'percentHighMeaning': 0.62, 'year': 2021, 'url': '/research/US/Degree=Bachelor%27s_Degree%2C_Information_%26_Computer_Science/Salary', 'rank': 11, 'tie': False}\n",
      "{'id': 4495, 'degreeType': 'Bachelors', 'major': 'Aeronautics & Astronautics', 'earlyCareerMedianPay': 77600, 'midCareerMedianPay': 139600, 'fiveToTenYearMedianPay': 96800, 'tenToTwentyYearMedianPay': 119500, 'twentyPlusYearMedianPay': None, 'percentHighMeaning': 0.56, 'year': 2021, 'url': '/research/US/Degree=Bachelor%27s_Degree%2C_Aeronautics_%26_Astronautics/Salary', 'rank': 12, 'tie': False}\n",
      "{'id': 4506, 'degreeType': 'Bachelors', 'major': 'Systems Engineering', 'earlyCareerMedianPay': 77700, 'midCareerMedianPay': 139200, 'fiveToTenYearMedianPay': 109500, 'tenToTwentyYearMedianPay': 129500, 'twentyPlusYearMedianPay': 145300, 'percentHighMeaning': 0.53, 'year': 2021, 'url': '/research/US/Degree=Bachelor%27s_Degree%2C_Systems_Engineering/Salary', 'rank': 13, 'tie': False}\n",
      "{'id': 4496, 'degreeType': 'Bachelors', 'major': 'Econometrics', 'earlyCareerMedianPay': 64200, 'midCareerMedianPay': 139000, 'fiveToTenYearMedianPay': 86600, 'tenToTwentyYearMedianPay': 123200, 'twentyPlusYearMedianPay': None, 'percentHighMeaning': 0.35, 'year': 2021, 'url': '/research/US/Degree=Bachelor%27s_Degree%2C_Econometrics/Salary', 'rank': 14, 'tie': False}\n",
      "{'id': 4497, 'degreeType': 'Bachelors', 'major': 'Pharmacy', 'earlyCareerMedianPay': 68600, 'midCareerMedianPay': 138700, 'fiveToTenYearMedianPay': 131800, 'tenToTwentyYearMedianPay': 137900, 'twentyPlusYearMedianPay': 138700, 'percentHighMeaning': 0.78, 'year': 2021, 'url': '/research/US/Degree=Bachelor%27s_Degree%2C_Pharmacy/Salary', 'rank': 15, 'tie': False}\n",
      "{'id': 4498, 'degreeType': 'Bachelors', 'major': 'Aerospace Studies', 'earlyCareerMedianPay': 55800, 'midCareerMedianPay': 136600, 'fiveToTenYearMedianPay': 67700, 'tenToTwentyYearMedianPay': 124900, 'twentyPlusYearMedianPay': None, 'percentHighMeaning': None, 'year': 2021, 'url': '/research/US/Degree=Bachelor%27s_Degree%2C_Aerospace_Studies/Salary', 'rank': 16, 'tie': False}\n",
      "{'id': 4499, 'degreeType': 'Bachelors', 'major': 'Building Science', 'earlyCareerMedianPay': 53800, 'midCareerMedianPay': 135900, 'fiveToTenYearMedianPay': 88000, 'tenToTwentyYearMedianPay': 134700, 'twentyPlusYearMedianPay': 147900, 'percentHighMeaning': 0.53, 'year': 2021, 'url': '/research/US/Degree=Bachelor%27s_Degree%2C_Building_Science/Salary', 'rank': 17, 'tie': True}\n",
      "{'id': 4500, 'degreeType': 'Bachelors', 'major': 'Chemical Engineering', 'earlyCareerMedianPay': 76900, 'midCareerMedianPay': 135900, 'fiveToTenYearMedianPay': 100200, 'tenToTwentyYearMedianPay': 124700, 'twentyPlusYearMedianPay': 155000, 'percentHighMeaning': 0.55, 'year': 2021, 'url': '/research/US/Degree=Bachelor%27s_Degree%2C_Chemical_Engineering/Salary', 'rank': 17, 'tie': True}\n",
      "{'id': 4501, 'degreeType': 'Bachelors', 'major': 'Cognitive Science', 'earlyCareerMedianPay': 68700, 'midCareerMedianPay': 135200, 'fiveToTenYearMedianPay': 101300, 'tenToTwentyYearMedianPay': 126400, 'twentyPlusYearMedianPay': 172400, 'percentHighMeaning': 0.42, 'year': 2021, 'url': '/research/US/Degree=Bachelor%27s_Degree%2C_Cognitive_Science/Salary', 'rank': 19, 'tie': False}\n",
      "{'id': 4502, 'degreeType': 'Bachelors', 'major': 'Actuarial Science', 'earlyCareerMedianPay': 67700, 'midCareerMedianPay': 134400, 'fiveToTenYearMedianPay': 101600, 'tenToTwentyYearMedianPay': 129200, 'twentyPlusYearMedianPay': 144900, 'percentHighMeaning': 0.43, 'year': 2021, 'url': '/research/US/Degree=Bachelor%27s_Degree%2C_Actuarial_Science/Salary', 'rank': 20, 'tie': False}\n",
      "{'id': 4503, 'degreeType': 'Bachelors', 'major': 'Political Economy', 'earlyCareerMedianPay': 65100, 'midCareerMedianPay': 133500, 'fiveToTenYearMedianPay': 96900, 'tenToTwentyYearMedianPay': 131100, 'twentyPlusYearMedianPay': None, 'percentHighMeaning': 0.29, 'year': 2021, 'url': '/research/US/Degree=Bachelor%27s_Degree%2C_Political_Economy/Salary', 'rank': 21, 'tie': False}\n",
      "{'id': 4504, 'degreeType': 'Bachelors', 'major': 'Computer Systems Engineering', 'earlyCareerMedianPay': 79000, 'midCareerMedianPay': 133200, 'fiveToTenYearMedianPay': 101800, 'tenToTwentyYearMedianPay': 132000, 'twentyPlusYearMedianPay': 144800, 'percentHighMeaning': 0.51, 'year': 2021, 'url': '/research/US/Degree=Bachelor%27s_Degree%2C_Computer_Systems_Engineering/Salary', 'rank': 22, 'tie': False}\n",
      "{'id': 4505, 'degreeType': 'Bachelors', 'major': 'Electrical & Computer Engineering (ECE)', 'earlyCareerMedianPay': 78100, 'midCareerMedianPay': 131600, 'fiveToTenYearMedianPay': 98600, 'tenToTwentyYearMedianPay': 122700, 'twentyPlusYearMedianPay': 146300, 'percentHighMeaning': 0.49, 'year': 2021, 'url': '/research/US/Degree=Bachelor%27s_Degree%2C_Electrical_%26_Computer_Engineering_(ECE)/Salary', 'rank': 23, 'tie': False}\n",
      "{'id': 4483, 'degreeType': 'Bachelors', 'major': 'Computer Science (CS) & Engineering', 'earlyCareerMedianPay': 79400, 'midCareerMedianPay': 131300, 'fiveToTenYearMedianPay': 96700, 'tenToTwentyYearMedianPay': 125300, 'twentyPlusYearMedianPay': 142500, 'percentHighMeaning': 0.44, 'year': 2021, 'url': '/research/US/Degree=Bachelor%27s_Degree%2C_Computer_Science_(CS)_%26_Engineering/Salary', 'rank': 24, 'tie': True}\n",
      "{'id': 4494, 'degreeType': 'Bachelors', 'major': 'Marine Engineering', 'earlyCareerMedianPay': 79900, 'midCareerMedianPay': 131300, 'fiveToTenYearMedianPay': 97500, 'tenToTwentyYearMedianPay': 122100, 'twentyPlusYearMedianPay': 149100, 'percentHighMeaning': 0.6, 'year': 2021, 'url': '/research/US/Degree=Bachelor%27s_Degree%2C_Marine_Engineering/Salary', 'rank': 24, 'tie': True}\n"
     ]
    }
   ],
   "source": []
  },
  {
   "cell_type": "code",
   "execution_count": 25,
   "metadata": {},
   "outputs": [],
   "source": []
  },
  {
   "cell_type": "code",
   "execution_count": 26,
   "metadata": {},
   "outputs": [
    {
     "name": "stdout",
     "output_type": "stream",
     "text": [
      "      id degreeType                                             major  \\\n",
      "0   3940  Bachelors                             Petroleum Engineering   \n",
      "1   4484  Bachelors      Operations Research & Industrial Engineering   \n",
      "2   4485  Bachelors  Electrical Engineering & Computer Science (EECS)   \n",
      "3   4486  Bachelors                                Interaction Design   \n",
      "4   4487  Bachelors                                 Public Accounting   \n",
      "5   4488  Bachelors                               Operations Research   \n",
      "6   4489  Bachelors                  Applied Economics and Management   \n",
      "7   4490  Bachelors                           Business Computing (BC)   \n",
      "8   4491  Bachelors                             Actuarial Mathematics   \n",
      "9   4492  Bachelors                      Electrical Power Engineering   \n",
      "10  4493  Bachelors                    Information & Computer Science   \n",
      "11  4495  Bachelors                        Aeronautics & Astronautics   \n",
      "12  4506  Bachelors                               Systems Engineering   \n",
      "13  4496  Bachelors                                      Econometrics   \n",
      "14  4497  Bachelors                                          Pharmacy   \n",
      "15  4498  Bachelors                                 Aerospace Studies   \n",
      "16  4499  Bachelors                                  Building Science   \n",
      "17  4500  Bachelors                              Chemical Engineering   \n",
      "18  4501  Bachelors                                 Cognitive Science   \n",
      "19  4502  Bachelors                                 Actuarial Science   \n",
      "20  4503  Bachelors                                 Political Economy   \n",
      "21  4504  Bachelors                      Computer Systems Engineering   \n",
      "22  4505  Bachelors           Electrical & Computer Engineering (ECE)   \n",
      "23  4483  Bachelors               Computer Science (CS) & Engineering   \n",
      "24  4494  Bachelors                                Marine Engineering   \n",
      "\n",
      "    earlyCareerMedianPay  midCareerMedianPay  fiveToTenYearMedianPay  \\\n",
      "0                  93200              187300                146100.0   \n",
      "1                  84800              170400                126300.0   \n",
      "2                 108500              159300                134000.0   \n",
      "3                  68300              155800                108400.0   \n",
      "4                  59800              147700                 69800.0   \n",
      "5                  83500              147400                110100.0   \n",
      "6                  66100              146400                100500.0   \n",
      "7                  73000              143600                     NaN   \n",
      "8                  64300              143400                103900.0   \n",
      "9                  76100              142600                 99600.0   \n",
      "10                 58600              140900                119800.0   \n",
      "11                 77600              139600                 96800.0   \n",
      "12                 77700              139200                109500.0   \n",
      "13                 64200              139000                 86600.0   \n",
      "14                 68600              138700                131800.0   \n",
      "15                 55800              136600                 67700.0   \n",
      "16                 53800              135900                 88000.0   \n",
      "17                 76900              135900                100200.0   \n",
      "18                 68700              135200                101300.0   \n",
      "19                 67700              134400                101600.0   \n",
      "20                 65100              133500                 96900.0   \n",
      "21                 79000              133200                101800.0   \n",
      "22                 78100              131600                 98600.0   \n",
      "23                 79400              131300                 96700.0   \n",
      "24                 79900              131300                 97500.0   \n",
      "\n",
      "    tenToTwentyYearMedianPay  twentyPlusYearMedianPay  percentHighMeaning  \\\n",
      "0                   176000.0                 198100.0                0.67   \n",
      "1                   170800.0                      NaN                0.28   \n",
      "2                   150500.0                 163000.0                0.46   \n",
      "3                   155800.0                      NaN                0.55   \n",
      "4                    89700.0                 189700.0                0.47   \n",
      "5                   146400.0                      NaN                0.54   \n",
      "6                   145700.0                      NaN                0.67   \n",
      "7                        NaN                      NaN                 NaN   \n",
      "8                   143500.0                      NaN                0.51   \n",
      "9                   129000.0                 157500.0                0.68   \n",
      "10                  126500.0                 155100.0                0.62   \n",
      "11                  119500.0                      NaN                0.56   \n",
      "12                  129500.0                 145300.0                0.53   \n",
      "13                  123200.0                      NaN                0.35   \n",
      "14                  137900.0                 138700.0                0.78   \n",
      "15                  124900.0                      NaN                 NaN   \n",
      "16                  134700.0                 147900.0                0.53   \n",
      "17                  124700.0                 155000.0                0.55   \n",
      "18                  126400.0                 172400.0                0.42   \n",
      "19                  129200.0                 144900.0                0.43   \n",
      "20                  131100.0                      NaN                0.29   \n",
      "21                  132000.0                 144800.0                0.51   \n",
      "22                  122700.0                 146300.0                0.49   \n",
      "23                  125300.0                 142500.0                0.44   \n",
      "24                  122100.0                 149100.0                0.60   \n",
      "\n",
      "    year                                                url  rank    tie  \n",
      "0   2021  /research/US/Degree=Bachelor%27s_Degree%2C_Pet...     1  False  \n",
      "1   2021  /research/US/Degree=Bachelor%27s_Degree%2C_Ope...     2  False  \n",
      "2   2021  /research/US/Degree=Bachelor%27s_Degree%2C_Ele...     3  False  \n",
      "3   2021  /research/US/Degree=Bachelor%27s_Degree%2C_Int...     4  False  \n",
      "4   2021  /research/US/Degree=Bachelor%27s_Degree%2C_Pub...     5  False  \n",
      "5   2021  /research/US/Degree=Bachelor%27s_Degree%2C_Ope...     6  False  \n",
      "6   2021  /research/US/Degree=Bachelor%27s_Degree%2C_App...     7  False  \n",
      "7   2021  /research/US/Degree=Bachelor%27s_Degree%2C_Bus...     8  False  \n",
      "8   2021  /research/US/Degree=Bachelor%27s_Degree%2C_Act...     9  False  \n",
      "9   2021  /research/US/Degree=Bachelor%27s_Degree%2C_Ele...    10  False  \n",
      "10  2021  /research/US/Degree=Bachelor%27s_Degree%2C_Inf...    11  False  \n",
      "11  2021  /research/US/Degree=Bachelor%27s_Degree%2C_Aer...    12  False  \n",
      "12  2021  /research/US/Degree=Bachelor%27s_Degree%2C_Sys...    13  False  \n",
      "13  2021  /research/US/Degree=Bachelor%27s_Degree%2C_Eco...    14  False  \n",
      "14  2021  /research/US/Degree=Bachelor%27s_Degree%2C_Pha...    15  False  \n",
      "15  2021  /research/US/Degree=Bachelor%27s_Degree%2C_Aer...    16  False  \n",
      "16  2021  /research/US/Degree=Bachelor%27s_Degree%2C_Bui...    17   True  \n",
      "17  2021  /research/US/Degree=Bachelor%27s_Degree%2C_Che...    17   True  \n",
      "18  2021  /research/US/Degree=Bachelor%27s_Degree%2C_Cog...    19  False  \n",
      "19  2021  /research/US/Degree=Bachelor%27s_Degree%2C_Act...    20  False  \n",
      "20  2021  /research/US/Degree=Bachelor%27s_Degree%2C_Pol...    21  False  \n",
      "21  2021  /research/US/Degree=Bachelor%27s_Degree%2C_Com...    22  False  \n",
      "22  2021  /research/US/Degree=Bachelor%27s_Degree%2C_Ele...    23  False  \n",
      "23  2021  /research/US/Degree=Bachelor%27s_Degree%2C_Com...    24   True  \n",
      "24  2021  /research/US/Degree=Bachelor%27s_Degree%2C_Mar...    24   True  \n"
     ]
    }
   ],
   "source": [
    "print(df)"
   ]
  },
  {
   "cell_type": "code",
   "execution_count": null,
   "metadata": {},
   "outputs": [],
   "source": []
  }
 ],
 "metadata": {
  "kernelspec": {
   "display_name": "Python 3.9.12 ('.venv': venv)",
   "language": "python",
   "name": "python3"
  },
  "language_info": {
   "codemirror_mode": {
    "name": "ipython",
    "version": 3
   },
   "file_extension": ".py",
   "mimetype": "text/x-python",
   "name": "python",
   "nbconvert_exporter": "python",
   "pygments_lexer": "ipython3",
   "version": "3.9.12"
  },
  "orig_nbformat": 4,
  "vscode": {
   "interpreter": {
    "hash": "bcac329245782175d8dcc877881072ddfce2c37c5966e1bee303076bccece577"
   }
  }
 },
 "nbformat": 4,
 "nbformat_minor": 2
}
