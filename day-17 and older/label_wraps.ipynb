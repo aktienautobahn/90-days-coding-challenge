{
 "cells": [
  {
   "cell_type": "code",
   "execution_count": null,
   "metadata": {},
   "outputs": [],
   "source": [
    "import numpy as np\n",
    "import matplotlib.pyplot as plt"
   ]
  },
  {
   "cell_type": "code",
   "execution_count": null,
   "metadata": {},
   "outputs": [],
   "source": [
    "\n",
    "labels=('Really really really really really really long label 1', 'Really really really really really really long label 2', 'Really really really really really really long label 3')\n",
    "values=(30,50,40)\n",
    "\n",
    "fig = plt.figure()\n",
    "ax=fig.add_subplot(111)\n",
    "\n",
    "plt.ylim((0,40))\n",
    "for i in np.arange(3):\n",
    "    plt.barh(15*i, values[i])\n",
    "\n",
    "plt.yticks(15*np.arange(3))\n",
    "plt.setp(ax.set_yticklabels(labels))\n",
    "\n",
    "plt.tight_layout()\n"
   ]
  },
  {
   "cell_type": "code",
   "execution_count": null,
   "metadata": {},
   "outputs": [],
   "source": [
    "plt.show()"
   ]
  },
  {
   "cell_type": "code",
   "execution_count": null,
   "metadata": {},
   "outputs": [],
   "source": []
  }
 ],
 "metadata": {
  "interpreter": {
   "hash": "31f2aee4e71d21fbe5cf8b01ff0e069b9275f58929596ceb00d14d90e3e16cd6"
  },
  "kernelspec": {
   "display_name": "Python 3.6.9 64-bit",
   "language": "python",
   "name": "python3"
  },
  "language_info": {
   "name": "python",
   "version": "3.8.9"
  },
  "orig_nbformat": 4
 },
 "nbformat": 4,
 "nbformat_minor": 2
}
