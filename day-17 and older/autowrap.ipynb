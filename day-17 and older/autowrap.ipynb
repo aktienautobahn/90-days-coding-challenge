{
  "cells": [
    {
      "cell_type": "code",
      "execution_count": null,
      "metadata": {
        "collapsed": false
      },
      "outputs": [],
      "source": [
        "%matplotlib inline"
      ]
    },
    {
      "cell_type": "markdown",
      "metadata": {},
      "source": [
        "\n",
        "# Auto-wrapping text\n",
        "\n",
        "Matplotlib can wrap text automatically, but if it's too long, the text will be\n",
        "displayed slightly outside of the boundaries of the axis anyways.\n",
        "\n",
        "Note: Auto-wrapping does not work together with\n",
        "``savefig(..., bbox_inches='tight')``. The 'tight' setting rescales the canvas\n",
        "to accommodate all content and happens before wrapping. This affects\n",
        "``%matplotlib inline`` in IPython and Jupyter notebooks where the inline\n",
        "setting uses ``bbox_inches='tight'`` by default when saving the image to\n",
        "embed.\n"
      ]
    },
    {
      "cell_type": "code",
      "execution_count": null,
      "metadata": {
        "collapsed": false
      },
      "outputs": [],
      "source": [
        "import matplotlib.pyplot as plt\n",
        "\n",
        "fig = plt.figure()\n",
        "plt.axis([0, 10, 0, 10])\n",
        "t = (\"This is a really long string that I'd rather have wrapped so that it \"\n",
        "     \"doesn't go outside of the figure, but if it's long enough it will go \"\n",
        "     \"off the top or bottom!\")\n",
        "plt.text(4, 1, t, ha='left', rotation=15, wrap=True)\n",
        "plt.text(6, 5, t, ha='left', rotation=15, wrap=True)\n",
        "plt.text(5, 5, t, ha='right', rotation=-15, wrap=True)\n",
        "plt.text(5, 10, t, fontsize=18, style='oblique', ha='center',\n",
        "         va='top', wrap=True)\n",
        "plt.text(3, 4, t, family='serif', style='italic', ha='right', wrap=True)\n",
        "plt.text(-1, 0, t, ha='left', rotation=-15, wrap=True)\n",
        "\n",
        "plt.show()"
      ]
    }
  ],
  "metadata": {
    "kernelspec": {
      "display_name": "Python 3.8.9 64-bit",
      "language": "python",
      "name": "python3"
    },
    "language_info": {
      "codemirror_mode": {
        "name": "ipython",
        "version": 3
      },
      "file_extension": ".py",
      "mimetype": "text/x-python",
      "name": "python",
      "nbconvert_exporter": "python",
      "pygments_lexer": "ipython3",
      "version": "3.8.9"
    },
    "vscode": {
      "interpreter": {
        "hash": "31f2aee4e71d21fbe5cf8b01ff0e069b9275f58929596ceb00d14d90e3e16cd6"
      }
    }
  },
  "nbformat": 4,
  "nbformat_minor": 0
}
